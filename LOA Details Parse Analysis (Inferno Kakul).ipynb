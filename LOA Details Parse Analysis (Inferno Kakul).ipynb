{
 "cells": [
  {
   "cell_type": "code",
   "execution_count": 1,
   "metadata": {},
   "outputs": [],
   "source": [
    "import pandas as pd\n",
    "import json\n",
    "import matplotlib.pyplot as plt\n",
    "import seaborn as sns"
   ]
  },
  {
   "cell_type": "markdown",
   "metadata": {},
   "source": [
    "## LOA Details\n",
    "### Kakul Saydon G1 + G2\n",
    "### July 20, 2023\n",
    "### Paladin, SS, Arcana, GS"
   ]
  },
  {
   "cell_type": "markdown",
   "metadata": {},
   "source": [
    "Read in parsed json"
   ]
  },
  {
   "cell_type": "code",
   "execution_count": 2,
   "metadata": {},
   "outputs": [],
   "source": [
    "text_file = open('../../Documents/Lost Ark Logs/parsed/LostArk_2023-07-20-12-11-26.json')\n",
    "data = text_file.read()\n",
    "text_file.close()\n",
    "data = data.strip('{\"encounters\"}:')"
   ]
  },
  {
   "cell_type": "markdown",
   "metadata": {},
   "source": [
    "Serialize damage column data"
   ]
  },
  {
   "cell_type": "code",
   "execution_count": 3,
   "metadata": {},
   "outputs": [],
   "source": [
    "df = pd.read_json(data)\n",
    "df = pd.concat([df, df[\"mostDamageTakenEntity\"].apply(pd.Series)], axis=1)\n",
    "df.drop(columns = ['mostDamageTakenEntity'], inplace = True)"
   ]
  },
  {
   "cell_type": "code",
   "execution_count": 4,
   "metadata": {},
   "outputs": [
    {
     "data": {
      "text/plain": [
       "array([False])"
      ]
     },
     "execution_count": 4,
     "metadata": {},
     "output_type": "execute_result"
    }
   ],
   "source": [
    "df['isPlayer'].unique()"
   ]
  },
  {
   "cell_type": "code",
   "execution_count": 5,
   "metadata": {},
   "outputs": [],
   "source": [
    "df.drop(columns = ['isPlayer'], inplace = True)"
   ]
  },
  {
   "cell_type": "markdown",
   "metadata": {},
   "source": [
    "Convert duration to seconds and damage to millions"
   ]
  },
  {
   "cell_type": "code",
   "execution_count": 6,
   "metadata": {},
   "outputs": [],
   "source": [
    "df['duration'] = df['duration'].apply(lambda x: x/1000)"
   ]
  },
  {
   "cell_type": "code",
   "execution_count": 7,
   "metadata": {},
   "outputs": [],
   "source": [
    "df['damageTaken'] = df['damageTaken'].apply(lambda x: x/1000000)"
   ]
  },
  {
   "cell_type": "code",
   "execution_count": 8,
   "metadata": {},
   "outputs": [],
   "source": [
    "df.rename(columns = {'duration' : 'duration (s)', 'name' : 'boss', 'damageTaken' : 'damageDealt (m)'}, inplace = True)"
   ]
  },
  {
   "cell_type": "code",
   "execution_count": 9,
   "metadata": {},
   "outputs": [
    {
     "data": {
      "text/html": [
       "<div>\n",
       "<style scoped>\n",
       "    .dataframe tbody tr th:only-of-type {\n",
       "        vertical-align: middle;\n",
       "    }\n",
       "\n",
       "    .dataframe tbody tr th {\n",
       "        vertical-align: top;\n",
       "    }\n",
       "\n",
       "    .dataframe thead th {\n",
       "        text-align: right;\n",
       "    }\n",
       "</style>\n",
       "<table border=\"1\" class=\"dataframe\">\n",
       "  <thead>\n",
       "    <tr style=\"text-align: right;\">\n",
       "      <th></th>\n",
       "      <th>encounterId</th>\n",
       "      <th>encounterFile</th>\n",
       "      <th>duration (s)</th>\n",
       "      <th>boss</th>\n",
       "      <th>damageDealt (m)</th>\n",
       "    </tr>\n",
       "  </thead>\n",
       "  <tbody>\n",
       "    <tr>\n",
       "      <th>0</th>\n",
       "      <td>c317c9e1-610d-4e67-8f5a-35f1cd501d21</td>\n",
       "      <td>LostArk_2023-07-20-12-11-26_c317c9e1-610d-4e67...</td>\n",
       "      <td>54.653</td>\n",
       "      <td>Unicycling Clown</td>\n",
       "      <td>137.489550</td>\n",
       "    </tr>\n",
       "    <tr>\n",
       "      <th>1</th>\n",
       "      <td>ff394599-ce9c-456a-99e0-65f23821054c</td>\n",
       "      <td>LostArk_2023-07-20-12-11-26_ff394599-ce9c-456a...</td>\n",
       "      <td>72.803</td>\n",
       "      <td>Saydon</td>\n",
       "      <td>904.814032</td>\n",
       "    </tr>\n",
       "    <tr>\n",
       "      <th>2</th>\n",
       "      <td>ec0e2807-aa25-4026-ae8f-190fd4dbe3cc</td>\n",
       "      <td>LostArk_2023-07-20-12-11-26_ec0e2807-aa25-4026...</td>\n",
       "      <td>228.668</td>\n",
       "      <td>Saydon</td>\n",
       "      <td>2666.736437</td>\n",
       "    </tr>\n",
       "    <tr>\n",
       "      <th>3</th>\n",
       "      <td>dd0d0dc6-049f-45b8-95f3-7c1e6778050c</td>\n",
       "      <td>LostArk_2023-07-20-12-11-26_dd0d0dc6-049f-45b8...</td>\n",
       "      <td>663.961</td>\n",
       "      <td>Saydon</td>\n",
       "      <td>6127.621540</td>\n",
       "    </tr>\n",
       "    <tr>\n",
       "      <th>4</th>\n",
       "      <td>a42e7606-7ba8-4d0d-99d1-aaa661b4c5ff</td>\n",
       "      <td>LostArk_2023-07-20-12-11-26_a42e7606-7ba8-4d0d...</td>\n",
       "      <td>36.707</td>\n",
       "      <td>Kakul</td>\n",
       "      <td>336.274381</td>\n",
       "    </tr>\n",
       "  </tbody>\n",
       "</table>\n",
       "</div>"
      ],
      "text/plain": [
       "                            encounterId  \\\n",
       "0  c317c9e1-610d-4e67-8f5a-35f1cd501d21   \n",
       "1  ff394599-ce9c-456a-99e0-65f23821054c   \n",
       "2  ec0e2807-aa25-4026-ae8f-190fd4dbe3cc   \n",
       "3  dd0d0dc6-049f-45b8-95f3-7c1e6778050c   \n",
       "4  a42e7606-7ba8-4d0d-99d1-aaa661b4c5ff   \n",
       "\n",
       "                                       encounterFile  duration (s)  \\\n",
       "0  LostArk_2023-07-20-12-11-26_c317c9e1-610d-4e67...        54.653   \n",
       "1  LostArk_2023-07-20-12-11-26_ff394599-ce9c-456a...        72.803   \n",
       "2  LostArk_2023-07-20-12-11-26_ec0e2807-aa25-4026...       228.668   \n",
       "3  LostArk_2023-07-20-12-11-26_dd0d0dc6-049f-45b8...       663.961   \n",
       "4  LostArk_2023-07-20-12-11-26_a42e7606-7ba8-4d0d...        36.707   \n",
       "\n",
       "               boss  damageDealt (m)  \n",
       "0  Unicycling Clown       137.489550  \n",
       "1            Saydon       904.814032  \n",
       "2            Saydon      2666.736437  \n",
       "3            Saydon      6127.621540  \n",
       "4             Kakul       336.274381  "
      ]
     },
     "execution_count": 9,
     "metadata": {},
     "output_type": "execute_result"
    }
   ],
   "source": [
    "df.head()"
   ]
  },
  {
   "cell_type": "code",
   "execution_count": 10,
   "metadata": {
    "scrolled": true
   },
   "outputs": [
    {
     "data": {
      "text/html": [
       "<div>\n",
       "<style scoped>\n",
       "    .dataframe tbody tr th:only-of-type {\n",
       "        vertical-align: middle;\n",
       "    }\n",
       "\n",
       "    .dataframe tbody tr th {\n",
       "        vertical-align: top;\n",
       "    }\n",
       "\n",
       "    .dataframe thead th {\n",
       "        text-align: right;\n",
       "    }\n",
       "</style>\n",
       "<table border=\"1\" class=\"dataframe\">\n",
       "  <thead>\n",
       "    <tr style=\"text-align: right;\">\n",
       "      <th></th>\n",
       "      <th>duration (s)</th>\n",
       "      <th>damageDealt (m)</th>\n",
       "    </tr>\n",
       "  </thead>\n",
       "  <tbody>\n",
       "    <tr>\n",
       "      <th>count</th>\n",
       "      <td>66.000000</td>\n",
       "      <td>66.000000</td>\n",
       "    </tr>\n",
       "    <tr>\n",
       "      <th>mean</th>\n",
       "      <td>153.096182</td>\n",
       "      <td>1233.354333</td>\n",
       "    </tr>\n",
       "    <tr>\n",
       "      <th>std</th>\n",
       "      <td>149.223185</td>\n",
       "      <td>1059.312720</td>\n",
       "    </tr>\n",
       "    <tr>\n",
       "      <th>min</th>\n",
       "      <td>17.694000</td>\n",
       "      <td>137.489550</td>\n",
       "    </tr>\n",
       "    <tr>\n",
       "      <th>25%</th>\n",
       "      <td>66.039000</td>\n",
       "      <td>593.545192</td>\n",
       "    </tr>\n",
       "    <tr>\n",
       "      <th>50%</th>\n",
       "      <td>86.972000</td>\n",
       "      <td>810.948593</td>\n",
       "    </tr>\n",
       "    <tr>\n",
       "      <th>75%</th>\n",
       "      <td>198.473250</td>\n",
       "      <td>1725.645358</td>\n",
       "    </tr>\n",
       "    <tr>\n",
       "      <th>max</th>\n",
       "      <td>663.961000</td>\n",
       "      <td>6127.621540</td>\n",
       "    </tr>\n",
       "  </tbody>\n",
       "</table>\n",
       "</div>"
      ],
      "text/plain": [
       "       duration (s)  damageDealt (m)\n",
       "count     66.000000        66.000000\n",
       "mean     153.096182      1233.354333\n",
       "std      149.223185      1059.312720\n",
       "min       17.694000       137.489550\n",
       "25%       66.039000       593.545192\n",
       "50%       86.972000       810.948593\n",
       "75%      198.473250      1725.645358\n",
       "max      663.961000      6127.621540"
      ]
     },
     "execution_count": 10,
     "metadata": {},
     "output_type": "execute_result"
    }
   ],
   "source": [
    "df.describe()"
   ]
  },
  {
   "cell_type": "code",
   "execution_count": 11,
   "metadata": {},
   "outputs": [
    {
     "data": {
      "text/plain": [
       "(66, 5)"
      ]
     },
     "execution_count": 11,
     "metadata": {},
     "output_type": "execute_result"
    }
   ],
   "source": [
    "df.shape"
   ]
  },
  {
   "cell_type": "code",
   "execution_count": 12,
   "metadata": {},
   "outputs": [
    {
     "data": {
      "text/plain": [
       "array(['Unicycling Clown', 'Saydon', 'Kakul'], dtype=object)"
      ]
     },
     "execution_count": 12,
     "metadata": {},
     "output_type": "execute_result"
    }
   ],
   "source": [
    "df['boss'].unique()"
   ]
  },
  {
   "cell_type": "code",
   "execution_count": 13,
   "metadata": {},
   "outputs": [],
   "source": [
    "df = df[df['boss'] != 'Unicycling Clown']"
   ]
  },
  {
   "cell_type": "code",
   "execution_count": 14,
   "metadata": {},
   "outputs": [
    {
     "data": {
      "text/plain": [
       "(65, 5)"
      ]
     },
     "execution_count": 14,
     "metadata": {},
     "output_type": "execute_result"
    }
   ],
   "source": [
    "df.shape"
   ]
  },
  {
   "cell_type": "code",
   "execution_count": 15,
   "metadata": {},
   "outputs": [
    {
     "data": {
      "text/plain": [
       "1     Saydon\n",
       "2     Saydon\n",
       "3     Saydon\n",
       "4      Kakul\n",
       "5      Kakul\n",
       "       ...  \n",
       "61     Kakul\n",
       "62     Kakul\n",
       "63     Kakul\n",
       "64     Kakul\n",
       "65     Kakul\n",
       "Name: boss, Length: 65, dtype: object"
      ]
     },
     "execution_count": 15,
     "metadata": {},
     "output_type": "execute_result"
    }
   ],
   "source": [
    "df['boss']"
   ]
  },
  {
   "cell_type": "code",
   "execution_count": 16,
   "metadata": {},
   "outputs": [],
   "source": [
    "df_g1 = df[df['boss'] == 'Saydon']"
   ]
  },
  {
   "cell_type": "code",
   "execution_count": 17,
   "metadata": {},
   "outputs": [],
   "source": [
    "df_g2 = df[df['boss'] == 'Kakul']"
   ]
  },
  {
   "cell_type": "markdown",
   "metadata": {},
   "source": [
    "## Gate 1"
   ]
  },
  {
   "cell_type": "code",
   "execution_count": 18,
   "metadata": {},
   "outputs": [
    {
     "data": {
      "text/html": [
       "<div>\n",
       "<style scoped>\n",
       "    .dataframe tbody tr th:only-of-type {\n",
       "        vertical-align: middle;\n",
       "    }\n",
       "\n",
       "    .dataframe tbody tr th {\n",
       "        vertical-align: top;\n",
       "    }\n",
       "\n",
       "    .dataframe thead th {\n",
       "        text-align: right;\n",
       "    }\n",
       "</style>\n",
       "<table border=\"1\" class=\"dataframe\">\n",
       "  <thead>\n",
       "    <tr style=\"text-align: right;\">\n",
       "      <th></th>\n",
       "      <th>encounterId</th>\n",
       "      <th>encounterFile</th>\n",
       "      <th>duration (s)</th>\n",
       "      <th>boss</th>\n",
       "      <th>damageDealt (m)</th>\n",
       "    </tr>\n",
       "  </thead>\n",
       "  <tbody>\n",
       "    <tr>\n",
       "      <th>1</th>\n",
       "      <td>ff394599-ce9c-456a-99e0-65f23821054c</td>\n",
       "      <td>LostArk_2023-07-20-12-11-26_ff394599-ce9c-456a...</td>\n",
       "      <td>72.803</td>\n",
       "      <td>Saydon</td>\n",
       "      <td>904.814032</td>\n",
       "    </tr>\n",
       "    <tr>\n",
       "      <th>2</th>\n",
       "      <td>ec0e2807-aa25-4026-ae8f-190fd4dbe3cc</td>\n",
       "      <td>LostArk_2023-07-20-12-11-26_ec0e2807-aa25-4026...</td>\n",
       "      <td>228.668</td>\n",
       "      <td>Saydon</td>\n",
       "      <td>2666.736437</td>\n",
       "    </tr>\n",
       "    <tr>\n",
       "      <th>3</th>\n",
       "      <td>dd0d0dc6-049f-45b8-95f3-7c1e6778050c</td>\n",
       "      <td>LostArk_2023-07-20-12-11-26_dd0d0dc6-049f-45b8...</td>\n",
       "      <td>663.961</td>\n",
       "      <td>Saydon</td>\n",
       "      <td>6127.621540</td>\n",
       "    </tr>\n",
       "  </tbody>\n",
       "</table>\n",
       "</div>"
      ],
      "text/plain": [
       "                            encounterId  \\\n",
       "1  ff394599-ce9c-456a-99e0-65f23821054c   \n",
       "2  ec0e2807-aa25-4026-ae8f-190fd4dbe3cc   \n",
       "3  dd0d0dc6-049f-45b8-95f3-7c1e6778050c   \n",
       "\n",
       "                                       encounterFile  duration (s)    boss  \\\n",
       "1  LostArk_2023-07-20-12-11-26_ff394599-ce9c-456a...        72.803  Saydon   \n",
       "2  LostArk_2023-07-20-12-11-26_ec0e2807-aa25-4026...       228.668  Saydon   \n",
       "3  LostArk_2023-07-20-12-11-26_dd0d0dc6-049f-45b8...       663.961  Saydon   \n",
       "\n",
       "   damageDealt (m)  \n",
       "1       904.814032  \n",
       "2      2666.736437  \n",
       "3      6127.621540  "
      ]
     },
     "execution_count": 18,
     "metadata": {},
     "output_type": "execute_result"
    }
   ],
   "source": [
    "df_g1.head()"
   ]
  },
  {
   "cell_type": "markdown",
   "metadata": {},
   "source": [
    "### Gate 1 damage dealt by pull"
   ]
  },
  {
   "cell_type": "code",
   "execution_count": 19,
   "metadata": {},
   "outputs": [
    {
     "data": {
      "text/plain": [
       "<AxesSubplot:ylabel='damageDealt (m)'>"
      ]
     },
     "execution_count": 19,
     "metadata": {},
     "output_type": "execute_result"
    },
    {
     "data": {
      "image/png": "[encoded data removed]",
      "text/plain": [
       "<Figure size 432x288 with 1 Axes>"
      ]
     },
     "metadata": {
      "needs_background": "light"
     },
     "output_type": "display_data"
    }
   ],
   "source": [
    "sns.barplot(data=df_g1, x=df_g1.index, y=\"damageDealt (m)\")"
   ]
  },
  {
   "cell_type": "markdown",
   "metadata": {},
   "source": [
    "## Gate 2"
   ]
  },
  {
   "cell_type": "code",
   "execution_count": 20,
   "metadata": {},
   "outputs": [
    {
     "data": {
      "text/html": [
       "<div>\n",
       "<style scoped>\n",
       "    .dataframe tbody tr th:only-of-type {\n",
       "        vertical-align: middle;\n",
       "    }\n",
       "\n",
       "    .dataframe tbody tr th {\n",
       "        vertical-align: top;\n",
       "    }\n",
       "\n",
       "    .dataframe thead th {\n",
       "        text-align: right;\n",
       "    }\n",
       "</style>\n",
       "<table border=\"1\" class=\"dataframe\">\n",
       "  <thead>\n",
       "    <tr style=\"text-align: right;\">\n",
       "      <th></th>\n",
       "      <th>encounterId</th>\n",
       "      <th>encounterFile</th>\n",
       "      <th>duration (s)</th>\n",
       "      <th>boss</th>\n",
       "      <th>damageDealt (m)</th>\n",
       "    </tr>\n",
       "  </thead>\n",
       "  <tbody>\n",
       "    <tr>\n",
       "      <th>4</th>\n",
       "      <td>a42e7606-7ba8-4d0d-99d1-aaa661b4c5ff</td>\n",
       "      <td>LostArk_2023-07-20-12-11-26_a42e7606-7ba8-4d0d...</td>\n",
       "      <td>36.707</td>\n",
       "      <td>Kakul</td>\n",
       "      <td>336.274381</td>\n",
       "    </tr>\n",
       "    <tr>\n",
       "      <th>5</th>\n",
       "      <td>20a1a290-bc9a-4a47-bfb8-543676f9723b</td>\n",
       "      <td>LostArk_2023-07-20-12-11-26_20a1a290-bc9a-4a47...</td>\n",
       "      <td>210.124</td>\n",
       "      <td>Kakul</td>\n",
       "      <td>1570.946199</td>\n",
       "    </tr>\n",
       "    <tr>\n",
       "      <th>6</th>\n",
       "      <td>8ce7afab-8af0-493b-8baf-a398506a5971</td>\n",
       "      <td>LostArk_2023-07-20-12-11-26_8ce7afab-8af0-493b...</td>\n",
       "      <td>89.194</td>\n",
       "      <td>Kakul</td>\n",
       "      <td>922.132325</td>\n",
       "    </tr>\n",
       "    <tr>\n",
       "      <th>7</th>\n",
       "      <td>250b54b5-bc34-4c7d-a029-813d30eb43f4</td>\n",
       "      <td>LostArk_2023-07-20-12-11-26_250b54b5-bc34-4c7d...</td>\n",
       "      <td>31.454</td>\n",
       "      <td>Kakul</td>\n",
       "      <td>309.570756</td>\n",
       "    </tr>\n",
       "    <tr>\n",
       "      <th>8</th>\n",
       "      <td>866d780f-f13a-4c27-abd2-8cabd3a6c890</td>\n",
       "      <td>LostArk_2023-07-20-12-11-26_866d780f-f13a-4c27...</td>\n",
       "      <td>127.479</td>\n",
       "      <td>Kakul</td>\n",
       "      <td>903.867507</td>\n",
       "    </tr>\n",
       "  </tbody>\n",
       "</table>\n",
       "</div>"
      ],
      "text/plain": [
       "                            encounterId  \\\n",
       "4  a42e7606-7ba8-4d0d-99d1-aaa661b4c5ff   \n",
       "5  20a1a290-bc9a-4a47-bfb8-543676f9723b   \n",
       "6  8ce7afab-8af0-493b-8baf-a398506a5971   \n",
       "7  250b54b5-bc34-4c7d-a029-813d30eb43f4   \n",
       "8  866d780f-f13a-4c27-abd2-8cabd3a6c890   \n",
       "\n",
       "                                       encounterFile  duration (s)   boss  \\\n",
       "4  LostArk_2023-07-20-12-11-26_a42e7606-7ba8-4d0d...        36.707  Kakul   \n",
       "5  LostArk_2023-07-20-12-11-26_20a1a290-bc9a-4a47...       210.124  Kakul   \n",
       "6  LostArk_2023-07-20-12-11-26_8ce7afab-8af0-493b...        89.194  Kakul   \n",
       "7  LostArk_2023-07-20-12-11-26_250b54b5-bc34-4c7d...        31.454  Kakul   \n",
       "8  LostArk_2023-07-20-12-11-26_866d780f-f13a-4c27...       127.479  Kakul   \n",
       "\n",
       "   damageDealt (m)  \n",
       "4       336.274381  \n",
       "5      1570.946199  \n",
       "6       922.132325  \n",
       "7       309.570756  \n",
       "8       903.867507  "
      ]
     },
     "execution_count": 20,
     "metadata": {},
     "output_type": "execute_result"
    }
   ],
   "source": [
    "df_g2.head()"
   ]
  },
  {
   "cell_type": "code",
   "execution_count": 21,
   "metadata": {},
   "outputs": [],
   "source": [
    "df_g2.reset_index(inplace = True)"
   ]
  },
  {
   "cell_type": "code",
   "execution_count": 22,
   "metadata": {},
   "outputs": [
    {
     "data": {
      "text/plain": [
       "(62, 6)"
      ]
     },
     "execution_count": 22,
     "metadata": {},
     "output_type": "execute_result"
    }
   ],
   "source": [
    "df_g2.shape"
   ]
  },
  {
   "cell_type": "markdown",
   "metadata": {},
   "source": [
    "### Gate 2 damage by pull"
   ]
  },
  {
   "cell_type": "code",
   "execution_count": 23,
   "metadata": {},
   "outputs": [
    {
     "data": {
      "image/png": "[encoded data removed]",
      "text/plain": [
       "<Figure size 432x288 with 1 Axes>"
      ]
     },
     "metadata": {
      "needs_background": "light"
     },
     "output_type": "display_data"
    }
   ],
   "source": [
    "g = sns.barplot(data=df_g2, x=df_g2.index, y=\"damageDealt (m)\")\n",
    "\n",
    "for ind, label in enumerate(g.get_xticklabels()):\n",
    "    if ind % 10 == 0:  # every 10th label is kept\n",
    "        label.set_visible(True)\n",
    "    else:\n",
    "        label.set_visible(False)"
   ]
  },
  {
   "cell_type": "code",
   "execution_count": 24,
   "metadata": {},
   "outputs": [
    {
     "data": {
      "text/html": [
       "<div>\n",
       "<style scoped>\n",
       "    .dataframe tbody tr th:only-of-type {\n",
       "        vertical-align: middle;\n",
       "    }\n",
       "\n",
       "    .dataframe tbody tr th {\n",
       "        vertical-align: top;\n",
       "    }\n",
       "\n",
       "    .dataframe thead th {\n",
       "        text-align: right;\n",
       "    }\n",
       "</style>\n",
       "<table border=\"1\" class=\"dataframe\">\n",
       "  <thead>\n",
       "    <tr style=\"text-align: right;\">\n",
       "      <th></th>\n",
       "      <th>damageDealt (m)</th>\n",
       "      <th>duration (s)</th>\n",
       "    </tr>\n",
       "  </thead>\n",
       "  <tbody>\n",
       "    <tr>\n",
       "      <th>count</th>\n",
       "      <td>62.000000</td>\n",
       "      <td>62.000000</td>\n",
       "    </tr>\n",
       "    <tr>\n",
       "      <th>mean</th>\n",
       "      <td>1154.269749</td>\n",
       "      <td>146.520371</td>\n",
       "    </tr>\n",
       "    <tr>\n",
       "      <th>std</th>\n",
       "      <td>861.130199</td>\n",
       "      <td>138.011544</td>\n",
       "    </tr>\n",
       "    <tr>\n",
       "      <th>min</th>\n",
       "      <td>227.560073</td>\n",
       "      <td>17.694000</td>\n",
       "    </tr>\n",
       "    <tr>\n",
       "      <th>25%</th>\n",
       "      <td>593.545192</td>\n",
       "      <td>66.039000</td>\n",
       "    </tr>\n",
       "    <tr>\n",
       "      <th>50%</th>\n",
       "      <td>798.514150</td>\n",
       "      <td>86.972000</td>\n",
       "    </tr>\n",
       "    <tr>\n",
       "      <th>75%</th>\n",
       "      <td>1596.303532</td>\n",
       "      <td>179.013250</td>\n",
       "    </tr>\n",
       "    <tr>\n",
       "      <th>max</th>\n",
       "      <td>4262.597673</td>\n",
       "      <td>620.902000</td>\n",
       "    </tr>\n",
       "  </tbody>\n",
       "</table>\n",
       "</div>"
      ],
      "text/plain": [
       "       damageDealt (m)  duration (s)\n",
       "count        62.000000     62.000000\n",
       "mean       1154.269749    146.520371\n",
       "std         861.130199    138.011544\n",
       "min         227.560073     17.694000\n",
       "25%         593.545192     66.039000\n",
       "50%         798.514150     86.972000\n",
       "75%        1596.303532    179.013250\n",
       "max        4262.597673    620.902000"
      ]
     },
     "execution_count": 24,
     "metadata": {},
     "output_type": "execute_result"
    }
   ],
   "source": [
    "df_g2[[\"damageDealt (m)\", \"duration (s)\"]].describe()"
   ]
  },
  {
   "cell_type": "code",
   "execution_count": 25,
   "metadata": {},
   "outputs": [],
   "source": [
    "g2_summary = []\n",
    "g2_summary.append(df_g2[[\"damageDealt (m)\"]].describe())"
   ]
  },
  {
   "cell_type": "markdown",
   "metadata": {},
   "source": [
    "## LOA Details\n",
    "### Kakul Saydon G1 + G2\n",
    "### July 21, 2023\n",
    "### Paladin, SS, Arcana, GS"
   ]
  },
  {
   "cell_type": "markdown",
   "metadata": {},
   "source": [
    "Read in parsed json"
   ]
  },
  {
   "cell_type": "code",
   "execution_count": 26,
   "metadata": {},
   "outputs": [],
   "source": [
    "text_file = open('../../Documents/Lost Ark Logs/parsed/LostArk_2023-07-21-09-47-22.json')\n",
    "data = text_file.read()\n",
    "text_file.close()\n",
    "data = data.strip('{\"encounters\"}:')"
   ]
  },
  {
   "cell_type": "markdown",
   "metadata": {},
   "source": [
    "Serialize damage column data"
   ]
  },
  {
   "cell_type": "code",
   "execution_count": 27,
   "metadata": {},
   "outputs": [],
   "source": [
    "df = pd.read_json(data)\n",
    "df = pd.concat([df, df[\"mostDamageTakenEntity\"].apply(pd.Series)], axis=1)\n",
    "df.drop(columns = ['mostDamageTakenEntity'], inplace = True)"
   ]
  },
  {
   "cell_type": "code",
   "execution_count": 28,
   "metadata": {},
   "outputs": [
    {
     "data": {
      "text/plain": [
       "array([False])"
      ]
     },
     "execution_count": 28,
     "metadata": {},
     "output_type": "execute_result"
    }
   ],
   "source": [
    "df['isPlayer'].unique()"
   ]
  },
  {
   "cell_type": "code",
   "execution_count": 29,
   "metadata": {},
   "outputs": [],
   "source": [
    "df.drop(columns = ['isPlayer'], inplace = True)"
   ]
  },
  {
   "cell_type": "markdown",
   "metadata": {},
   "source": [
    "Convert duration to seconds and damage to millions"
   ]
  },
  {
   "cell_type": "code",
   "execution_count": 30,
   "metadata": {},
   "outputs": [],
   "source": [
    "df['duration'] = df['duration'].apply(lambda x: x/1000)"
   ]
  },
  {
   "cell_type": "code",
   "execution_count": 31,
   "metadata": {},
   "outputs": [],
   "source": [
    "df['damageTaken'] = df['damageTaken'].apply(lambda x: x/1000000)"
   ]
  },
  {
   "cell_type": "code",
   "execution_count": 32,
   "metadata": {},
   "outputs": [],
   "source": [
    "df.rename(columns = {'duration' : 'duration (s)', 'name' : 'boss', 'damageTaken' : 'damageDealt (m)'}, inplace = True)"
   ]
  },
  {
   "cell_type": "code",
   "execution_count": 33,
   "metadata": {},
   "outputs": [
    {
     "data": {
      "text/html": [
       "<div>\n",
       "<style scoped>\n",
       "    .dataframe tbody tr th:only-of-type {\n",
       "        vertical-align: middle;\n",
       "    }\n",
       "\n",
       "    .dataframe tbody tr th {\n",
       "        vertical-align: top;\n",
       "    }\n",
       "\n",
       "    .dataframe thead th {\n",
       "        text-align: right;\n",
       "    }\n",
       "</style>\n",
       "<table border=\"1\" class=\"dataframe\">\n",
       "  <thead>\n",
       "    <tr style=\"text-align: right;\">\n",
       "      <th></th>\n",
       "      <th>encounterId</th>\n",
       "      <th>encounterFile</th>\n",
       "      <th>duration (s)</th>\n",
       "      <th>boss</th>\n",
       "      <th>damageDealt (m)</th>\n",
       "    </tr>\n",
       "  </thead>\n",
       "  <tbody>\n",
       "    <tr>\n",
       "      <th>0</th>\n",
       "      <td>1a1560e0-b077-4bae-a647-5898de902a6e</td>\n",
       "      <td>LostArk_2023-07-21-09-47-22_1a1560e0-b077-4bae...</td>\n",
       "      <td>52.393</td>\n",
       "      <td>Unicycling Clown</td>\n",
       "      <td>87.190950</td>\n",
       "    </tr>\n",
       "    <tr>\n",
       "      <th>1</th>\n",
       "      <td>2cbbdc6b-a27b-4b88-a5aa-c179860ddc0d</td>\n",
       "      <td>LostArk_2023-07-21-09-47-22_2cbbdc6b-a27b-4b88...</td>\n",
       "      <td>159.720</td>\n",
       "      <td>Saydon</td>\n",
       "      <td>2303.966736</td>\n",
       "    </tr>\n",
       "    <tr>\n",
       "      <th>2</th>\n",
       "      <td>43975767-6b75-4ceb-bc67-483d489f5099</td>\n",
       "      <td>LostArk_2023-07-21-09-47-22_43975767-6b75-4ceb...</td>\n",
       "      <td>245.998</td>\n",
       "      <td>Kakul</td>\n",
       "      <td>5657.704332</td>\n",
       "    </tr>\n",
       "    <tr>\n",
       "      <th>3</th>\n",
       "      <td>32ff46e7-0070-4c17-90c0-0be5f57bc3e1</td>\n",
       "      <td>LostArk_2023-07-21-09-47-22_32ff46e7-0070-4c17...</td>\n",
       "      <td>441.221</td>\n",
       "      <td>Encore-Desiring Kakul-Saydon</td>\n",
       "      <td>2534.363409</td>\n",
       "    </tr>\n",
       "    <tr>\n",
       "      <th>4</th>\n",
       "      <td>f302405d-f276-4e26-a339-d43628014d6d</td>\n",
       "      <td>LostArk_2023-07-21-09-47-22_f302405d-f276-4e26...</td>\n",
       "      <td>307.697</td>\n",
       "      <td>Gehenna Helkasirs</td>\n",
       "      <td>6257.381672</td>\n",
       "    </tr>\n",
       "  </tbody>\n",
       "</table>\n",
       "</div>"
      ],
      "text/plain": [
       "                            encounterId  \\\n",
       "0  1a1560e0-b077-4bae-a647-5898de902a6e   \n",
       "1  2cbbdc6b-a27b-4b88-a5aa-c179860ddc0d   \n",
       "2  43975767-6b75-4ceb-bc67-483d489f5099   \n",
       "3  32ff46e7-0070-4c17-90c0-0be5f57bc3e1   \n",
       "4  f302405d-f276-4e26-a339-d43628014d6d   \n",
       "\n",
       "                                       encounterFile  duration (s)  \\\n",
       "0  LostArk_2023-07-21-09-47-22_1a1560e0-b077-4bae...        52.393   \n",
       "1  LostArk_2023-07-21-09-47-22_2cbbdc6b-a27b-4b88...       159.720   \n",
       "2  LostArk_2023-07-21-09-47-22_43975767-6b75-4ceb...       245.998   \n",
       "3  LostArk_2023-07-21-09-47-22_32ff46e7-0070-4c17...       441.221   \n",
       "4  LostArk_2023-07-21-09-47-22_f302405d-f276-4e26...       307.697   \n",
       "\n",
       "                           boss  damageDealt (m)  \n",
       "0              Unicycling Clown        87.190950  \n",
       "1                        Saydon      2303.966736  \n",
       "2                         Kakul      5657.704332  \n",
       "3  Encore-Desiring Kakul-Saydon      2534.363409  \n",
       "4             Gehenna Helkasirs      6257.381672  "
      ]
     },
     "execution_count": 33,
     "metadata": {},
     "output_type": "execute_result"
    }
   ],
   "source": [
    "df.head()"
   ]
  },
  {
   "cell_type": "code",
   "execution_count": 34,
   "metadata": {
    "scrolled": true
   },
   "outputs": [
    {
     "data": {
      "text/html": [
       "<div>\n",
       "<style scoped>\n",
       "    .dataframe tbody tr th:only-of-type {\n",
       "        vertical-align: middle;\n",
       "    }\n",
       "\n",
       "    .dataframe tbody tr th {\n",
       "        vertical-align: top;\n",
       "    }\n",
       "\n",
       "    .dataframe thead th {\n",
       "        text-align: right;\n",
       "    }\n",
       "</style>\n",
       "<table border=\"1\" class=\"dataframe\">\n",
       "  <thead>\n",
       "    <tr style=\"text-align: right;\">\n",
       "      <th></th>\n",
       "      <th>duration (s)</th>\n",
       "      <th>damageDealt (m)</th>\n",
       "    </tr>\n",
       "  </thead>\n",
       "  <tbody>\n",
       "    <tr>\n",
       "      <th>count</th>\n",
       "      <td>54.000000</td>\n",
       "      <td>54.000000</td>\n",
       "    </tr>\n",
       "    <tr>\n",
       "      <th>mean</th>\n",
       "      <td>235.066000</td>\n",
       "      <td>2923.896412</td>\n",
       "    </tr>\n",
       "    <tr>\n",
       "      <th>std</th>\n",
       "      <td>175.993145</td>\n",
       "      <td>4978.284268</td>\n",
       "    </tr>\n",
       "    <tr>\n",
       "      <th>min</th>\n",
       "      <td>24.001000</td>\n",
       "      <td>4.771538</td>\n",
       "    </tr>\n",
       "    <tr>\n",
       "      <th>25%</th>\n",
       "      <td>69.405250</td>\n",
       "      <td>746.856641</td>\n",
       "    </tr>\n",
       "    <tr>\n",
       "      <th>50%</th>\n",
       "      <td>192.803500</td>\n",
       "      <td>1911.401903</td>\n",
       "    </tr>\n",
       "    <tr>\n",
       "      <th>75%</th>\n",
       "      <td>359.936250</td>\n",
       "      <td>2859.354224</td>\n",
       "    </tr>\n",
       "    <tr>\n",
       "      <th>max</th>\n",
       "      <td>661.410000</td>\n",
       "      <td>29990.510916</td>\n",
       "    </tr>\n",
       "  </tbody>\n",
       "</table>\n",
       "</div>"
      ],
      "text/plain": [
       "       duration (s)  damageDealt (m)\n",
       "count     54.000000        54.000000\n",
       "mean     235.066000      2923.896412\n",
       "std      175.993145      4978.284268\n",
       "min       24.001000         4.771538\n",
       "25%       69.405250       746.856641\n",
       "50%      192.803500      1911.401903\n",
       "75%      359.936250      2859.354224\n",
       "max      661.410000     29990.510916"
      ]
     },
     "execution_count": 34,
     "metadata": {},
     "output_type": "execute_result"
    }
   ],
   "source": [
    "df.describe()"
   ]
  },
  {
   "cell_type": "code",
   "execution_count": 35,
   "metadata": {},
   "outputs": [
    {
     "data": {
      "text/plain": [
       "(54, 5)"
      ]
     },
     "execution_count": 35,
     "metadata": {},
     "output_type": "execute_result"
    }
   ],
   "source": [
    "df.shape"
   ]
  },
  {
   "cell_type": "code",
   "execution_count": 36,
   "metadata": {},
   "outputs": [
    {
     "data": {
      "text/plain": [
       "array(['Unicycling Clown', 'Saydon', 'Kakul',\n",
       "       'Encore-Desiring Kakul-Saydon', 'Gehenna Helkasirs',\n",
       "       \"Prokel's Spiritual Echo\", 'Phantom Apostle', 'Ashtarot',\n",
       "       'Primordial Nightmare', 'Cloud Mole'], dtype=object)"
      ]
     },
     "execution_count": 36,
     "metadata": {},
     "output_type": "execute_result"
    }
   ],
   "source": [
    "df['boss'].unique()"
   ]
  },
  {
   "cell_type": "code",
   "execution_count": 37,
   "metadata": {},
   "outputs": [],
   "source": [
    "df = df[df['boss'].isin(['Saydon', 'Kakul'])]"
   ]
  },
  {
   "cell_type": "code",
   "execution_count": 38,
   "metadata": {},
   "outputs": [
    {
     "data": {
      "text/plain": [
       "array(['Saydon', 'Kakul'], dtype=object)"
      ]
     },
     "execution_count": 38,
     "metadata": {},
     "output_type": "execute_result"
    }
   ],
   "source": [
    "df['boss'].unique()"
   ]
  },
  {
   "cell_type": "code",
   "execution_count": 39,
   "metadata": {},
   "outputs": [
    {
     "data": {
      "text/plain": [
       "(41, 5)"
      ]
     },
     "execution_count": 39,
     "metadata": {},
     "output_type": "execute_result"
    }
   ],
   "source": [
    "df.shape"
   ]
  },
  {
   "cell_type": "code",
   "execution_count": 40,
   "metadata": {},
   "outputs": [],
   "source": [
    "df = df.iloc[2:]"
   ]
  },
  {
   "cell_type": "code",
   "execution_count": 41,
   "metadata": {},
   "outputs": [],
   "source": [
    "df_g1 = df[df['boss'] == 'Saydon']"
   ]
  },
  {
   "cell_type": "code",
   "execution_count": 42,
   "metadata": {},
   "outputs": [],
   "source": [
    "df_g2 = df[df['boss'] == 'Kakul']"
   ]
  },
  {
   "cell_type": "code",
   "execution_count": 43,
   "metadata": {},
   "outputs": [],
   "source": [
    "df_g2.reset_index(inplace = True)\n",
    "df_g1.reset_index(inplace = True)"
   ]
  },
  {
   "cell_type": "markdown",
   "metadata": {},
   "source": [
    "## Gate 1"
   ]
  },
  {
   "cell_type": "code",
   "execution_count": 44,
   "metadata": {},
   "outputs": [
    {
     "data": {
      "text/html": [
       "<div>\n",
       "<style scoped>\n",
       "    .dataframe tbody tr th:only-of-type {\n",
       "        vertical-align: middle;\n",
       "    }\n",
       "\n",
       "    .dataframe tbody tr th {\n",
       "        vertical-align: top;\n",
       "    }\n",
       "\n",
       "    .dataframe thead th {\n",
       "        text-align: right;\n",
       "    }\n",
       "</style>\n",
       "<table border=\"1\" class=\"dataframe\">\n",
       "  <thead>\n",
       "    <tr style=\"text-align: right;\">\n",
       "      <th></th>\n",
       "      <th>index</th>\n",
       "      <th>encounterId</th>\n",
       "      <th>encounterFile</th>\n",
       "      <th>duration (s)</th>\n",
       "      <th>boss</th>\n",
       "      <th>damageDealt (m)</th>\n",
       "    </tr>\n",
       "  </thead>\n",
       "  <tbody>\n",
       "    <tr>\n",
       "      <th>0</th>\n",
       "      <td>13</td>\n",
       "      <td>7e134c11-d94b-4fcc-92c1-e2f41fa10985</td>\n",
       "      <td>LostArk_2023-07-21-09-47-22_7e134c11-d94b-4fcc...</td>\n",
       "      <td>305.503</td>\n",
       "      <td>Saydon</td>\n",
       "      <td>2997.273769</td>\n",
       "    </tr>\n",
       "    <tr>\n",
       "      <th>1</th>\n",
       "      <td>14</td>\n",
       "      <td>cce21857-b36c-4546-b320-ef4e79e326e4</td>\n",
       "      <td>LostArk_2023-07-21-09-47-22_cce21857-b36c-4546...</td>\n",
       "      <td>661.410</td>\n",
       "      <td>Saydon</td>\n",
       "      <td>5418.740033</td>\n",
       "    </tr>\n",
       "    <tr>\n",
       "      <th>2</th>\n",
       "      <td>17</td>\n",
       "      <td>96835f81-91fb-43d8-89ff-19b8ccf1879c</td>\n",
       "      <td>LostArk_2023-07-21-09-47-22_96835f81-91fb-43d8...</td>\n",
       "      <td>363.100</td>\n",
       "      <td>Saydon</td>\n",
       "      <td>3404.598130</td>\n",
       "    </tr>\n",
       "    <tr>\n",
       "      <th>3</th>\n",
       "      <td>18</td>\n",
       "      <td>6fbdd060-f3c4-478e-b697-6429ed178e11</td>\n",
       "      <td>LostArk_2023-07-21-09-47-22_6fbdd060-f3c4-478e...</td>\n",
       "      <td>656.852</td>\n",
       "      <td>Saydon</td>\n",
       "      <td>6127.621540</td>\n",
       "    </tr>\n",
       "  </tbody>\n",
       "</table>\n",
       "</div>"
      ],
      "text/plain": [
       "   index                           encounterId  \\\n",
       "0     13  7e134c11-d94b-4fcc-92c1-e2f41fa10985   \n",
       "1     14  cce21857-b36c-4546-b320-ef4e79e326e4   \n",
       "2     17  96835f81-91fb-43d8-89ff-19b8ccf1879c   \n",
       "3     18  6fbdd060-f3c4-478e-b697-6429ed178e11   \n",
       "\n",
       "                                       encounterFile  duration (s)    boss  \\\n",
       "0  LostArk_2023-07-21-09-47-22_7e134c11-d94b-4fcc...       305.503  Saydon   \n",
       "1  LostArk_2023-07-21-09-47-22_cce21857-b36c-4546...       661.410  Saydon   \n",
       "2  LostArk_2023-07-21-09-47-22_96835f81-91fb-43d8...       363.100  Saydon   \n",
       "3  LostArk_2023-07-21-09-47-22_6fbdd060-f3c4-478e...       656.852  Saydon   \n",
       "\n",
       "   damageDealt (m)  \n",
       "0      2997.273769  \n",
       "1      5418.740033  \n",
       "2      3404.598130  \n",
       "3      6127.621540  "
      ]
     },
     "execution_count": 44,
     "metadata": {},
     "output_type": "execute_result"
    }
   ],
   "source": [
    "df_g1.head()"
   ]
  },
  {
   "cell_type": "markdown",
   "metadata": {},
   "source": [
    "### Gate 1 damage dealt by pull"
   ]
  },
  {
   "cell_type": "code",
   "execution_count": 45,
   "metadata": {},
   "outputs": [
    {
     "data": {
      "text/plain": [
       "<AxesSubplot:ylabel='damageDealt (m)'>"
      ]
     },
     "execution_count": 45,
     "metadata": {},
     "output_type": "execute_result"
    },
    {
     "data": {
      "image/png": "[encoded data removed]",
      "text/plain": [
       "<Figure size 432x288 with 1 Axes>"
      ]
     },
     "metadata": {
      "needs_background": "light"
     },
     "output_type": "display_data"
    }
   ],
   "source": [
    "sns.barplot(data=df_g1, x=df_g1.index, y=\"damageDealt (m)\")"
   ]
  },
  {
   "cell_type": "markdown",
   "metadata": {},
   "source": [
    "## Gate 2"
   ]
  },
  {
   "cell_type": "code",
   "execution_count": 46,
   "metadata": {},
   "outputs": [
    {
     "data": {
      "text/html": [
       "<div>\n",
       "<style scoped>\n",
       "    .dataframe tbody tr th:only-of-type {\n",
       "        vertical-align: middle;\n",
       "    }\n",
       "\n",
       "    .dataframe tbody tr th {\n",
       "        vertical-align: top;\n",
       "    }\n",
       "\n",
       "    .dataframe thead th {\n",
       "        text-align: right;\n",
       "    }\n",
       "</style>\n",
       "<table border=\"1\" class=\"dataframe\">\n",
       "  <thead>\n",
       "    <tr style=\"text-align: right;\">\n",
       "      <th></th>\n",
       "      <th>index</th>\n",
       "      <th>encounterId</th>\n",
       "      <th>encounterFile</th>\n",
       "      <th>duration (s)</th>\n",
       "      <th>boss</th>\n",
       "      <th>damageDealt (m)</th>\n",
       "    </tr>\n",
       "  </thead>\n",
       "  <tbody>\n",
       "    <tr>\n",
       "      <th>0</th>\n",
       "      <td>19</td>\n",
       "      <td>db2309e0-e5c9-4c76-b325-1613d26d6fa2</td>\n",
       "      <td>LostArk_2023-07-21-09-47-22_db2309e0-e5c9-4c76...</td>\n",
       "      <td>379.792</td>\n",
       "      <td>Kakul</td>\n",
       "      <td>2601.971026</td>\n",
       "    </tr>\n",
       "    <tr>\n",
       "      <th>1</th>\n",
       "      <td>20</td>\n",
       "      <td>0d56d109-7528-4dad-a113-45f827ffe68b</td>\n",
       "      <td>LostArk_2023-07-21-09-47-22_0d56d109-7528-4dad...</td>\n",
       "      <td>438.762</td>\n",
       "      <td>Kakul</td>\n",
       "      <td>2767.406133</td>\n",
       "    </tr>\n",
       "    <tr>\n",
       "      <th>2</th>\n",
       "      <td>21</td>\n",
       "      <td>876c6475-6937-4f52-abb9-5cca3fb62145</td>\n",
       "      <td>LostArk_2023-07-21-09-47-22_876c6475-6937-4f52...</td>\n",
       "      <td>117.551</td>\n",
       "      <td>Kakul</td>\n",
       "      <td>1063.337545</td>\n",
       "    </tr>\n",
       "    <tr>\n",
       "      <th>3</th>\n",
       "      <td>22</td>\n",
       "      <td>8740eca1-1f2e-438c-af2f-7034277c5ab5</td>\n",
       "      <td>LostArk_2023-07-21-09-47-22_8740eca1-1f2e-438c...</td>\n",
       "      <td>24.001</td>\n",
       "      <td>Kakul</td>\n",
       "      <td>294.357597</td>\n",
       "    </tr>\n",
       "    <tr>\n",
       "      <th>4</th>\n",
       "      <td>23</td>\n",
       "      <td>99a0e763-8dcb-4a8c-8417-57493eaa919a</td>\n",
       "      <td>LostArk_2023-07-21-09-47-22_99a0e763-8dcb-4a8c...</td>\n",
       "      <td>448.703</td>\n",
       "      <td>Kakul</td>\n",
       "      <td>2885.256192</td>\n",
       "    </tr>\n",
       "  </tbody>\n",
       "</table>\n",
       "</div>"
      ],
      "text/plain": [
       "   index                           encounterId  \\\n",
       "0     19  db2309e0-e5c9-4c76-b325-1613d26d6fa2   \n",
       "1     20  0d56d109-7528-4dad-a113-45f827ffe68b   \n",
       "2     21  876c6475-6937-4f52-abb9-5cca3fb62145   \n",
       "3     22  8740eca1-1f2e-438c-af2f-7034277c5ab5   \n",
       "4     23  99a0e763-8dcb-4a8c-8417-57493eaa919a   \n",
       "\n",
       "                                       encounterFile  duration (s)   boss  \\\n",
       "0  LostArk_2023-07-21-09-47-22_db2309e0-e5c9-4c76...       379.792  Kakul   \n",
       "1  LostArk_2023-07-21-09-47-22_0d56d109-7528-4dad...       438.762  Kakul   \n",
       "2  LostArk_2023-07-21-09-47-22_876c6475-6937-4f52...       117.551  Kakul   \n",
       "3  LostArk_2023-07-21-09-47-22_8740eca1-1f2e-438c...        24.001  Kakul   \n",
       "4  LostArk_2023-07-21-09-47-22_99a0e763-8dcb-4a8c...       448.703  Kakul   \n",
       "\n",
       "   damageDealt (m)  \n",
       "0      2601.971026  \n",
       "1      2767.406133  \n",
       "2      1063.337545  \n",
       "3       294.357597  \n",
       "4      2885.256192  "
      ]
     },
     "execution_count": 46,
     "metadata": {},
     "output_type": "execute_result"
    }
   ],
   "source": [
    "df_g2.head()"
   ]
  },
  {
   "cell_type": "code",
   "execution_count": 47,
   "metadata": {},
   "outputs": [],
   "source": [
    "df_g2.reset_index(inplace = True)"
   ]
  },
  {
   "cell_type": "code",
   "execution_count": 48,
   "metadata": {},
   "outputs": [
    {
     "data": {
      "text/plain": [
       "(35, 7)"
      ]
     },
     "execution_count": 48,
     "metadata": {},
     "output_type": "execute_result"
    }
   ],
   "source": [
    "df_g2.shape"
   ]
  },
  {
   "cell_type": "markdown",
   "metadata": {},
   "source": [
    "### Gate 2 damage dealt by pull"
   ]
  },
  {
   "cell_type": "code",
   "execution_count": 49,
   "metadata": {},
   "outputs": [
    {
     "data": {
      "image/png": "[encoded data removed]",
      "text/plain": [
       "<Figure size 432x288 with 1 Axes>"
      ]
     },
     "metadata": {
      "needs_background": "light"
     },
     "output_type": "display_data"
    }
   ],
   "source": [
    "g = sns.barplot(data=df_g2, x=df_g2.index, y=\"damageDealt (m)\")\n",
    "\n",
    "for ind, label in enumerate(g.get_xticklabels()):\n",
    "    if ind % 10 == 0:  # every 10th label is kept\n",
    "        label.set_visible(True)\n",
    "    else:\n",
    "        label.set_visible(False)"
   ]
  },
  {
   "cell_type": "code",
   "execution_count": 50,
   "metadata": {},
   "outputs": [
    {
     "data": {
      "text/html": [
       "<div>\n",
       "<style scoped>\n",
       "    .dataframe tbody tr th:only-of-type {\n",
       "        vertical-align: middle;\n",
       "    }\n",
       "\n",
       "    .dataframe tbody tr th {\n",
       "        vertical-align: top;\n",
       "    }\n",
       "\n",
       "    .dataframe thead th {\n",
       "        text-align: right;\n",
       "    }\n",
       "</style>\n",
       "<table border=\"1\" class=\"dataframe\">\n",
       "  <thead>\n",
       "    <tr style=\"text-align: right;\">\n",
       "      <th></th>\n",
       "      <th>damageDealt (m)</th>\n",
       "      <th>duration (s)</th>\n",
       "    </tr>\n",
       "  </thead>\n",
       "  <tbody>\n",
       "    <tr>\n",
       "      <th>count</th>\n",
       "      <td>35.000000</td>\n",
       "      <td>35.000000</td>\n",
       "    </tr>\n",
       "    <tr>\n",
       "      <th>mean</th>\n",
       "      <td>1725.288828</td>\n",
       "      <td>223.735114</td>\n",
       "    </tr>\n",
       "    <tr>\n",
       "      <th>std</th>\n",
       "      <td>950.889451</td>\n",
       "      <td>162.060955</td>\n",
       "    </tr>\n",
       "    <tr>\n",
       "      <th>min</th>\n",
       "      <td>294.357597</td>\n",
       "      <td>24.001000</td>\n",
       "    </tr>\n",
       "    <tr>\n",
       "      <th>25%</th>\n",
       "      <td>918.562980</td>\n",
       "      <td>94.667000</td>\n",
       "    </tr>\n",
       "    <tr>\n",
       "      <th>50%</th>\n",
       "      <td>1721.168025</td>\n",
       "      <td>181.307000</td>\n",
       "    </tr>\n",
       "    <tr>\n",
       "      <th>75%</th>\n",
       "      <td>2684.688579</td>\n",
       "      <td>365.118500</td>\n",
       "    </tr>\n",
       "    <tr>\n",
       "      <th>max</th>\n",
       "      <td>3665.666590</td>\n",
       "      <td>643.897000</td>\n",
       "    </tr>\n",
       "  </tbody>\n",
       "</table>\n",
       "</div>"
      ],
      "text/plain": [
       "       damageDealt (m)  duration (s)\n",
       "count        35.000000     35.000000\n",
       "mean       1725.288828    223.735114\n",
       "std         950.889451    162.060955\n",
       "min         294.357597     24.001000\n",
       "25%         918.562980     94.667000\n",
       "50%        1721.168025    181.307000\n",
       "75%        2684.688579    365.118500\n",
       "max        3665.666590    643.897000"
      ]
     },
     "execution_count": 50,
     "metadata": {},
     "output_type": "execute_result"
    }
   ],
   "source": [
    "df_g2[[\"damageDealt (m)\", \"duration (s)\"]].describe()"
   ]
  },
  {
   "cell_type": "code",
   "execution_count": 51,
   "metadata": {},
   "outputs": [],
   "source": [
    "g2_summary.append(df_g2[[\"damageDealt (m)\"]].describe())"
   ]
  },
  {
   "cell_type": "markdown",
   "metadata": {},
   "source": [
    "## LOA Details\n",
    "### Kakul Saydon G1 + G2\n",
    "### July 21, 2023\n",
    "### Paladin, SS, Arcana, Berserker"
   ]
  },
  {
   "cell_type": "markdown",
   "metadata": {},
   "source": [
    "Read in parsed json"
   ]
  },
  {
   "cell_type": "code",
   "execution_count": 52,
   "metadata": {},
   "outputs": [],
   "source": [
    "text_file = open('../../Documents/Lost Ark Logs/parsed/LostArk_2023-07-21-20-57-36.json')\n",
    "data = text_file.read()\n",
    "text_file.close()\n",
    "data = data.strip('{\"encounters\"}:')"
   ]
  },
  {
   "cell_type": "markdown",
   "metadata": {},
   "source": [
    "Serialize damage column data"
   ]
  },
  {
   "cell_type": "code",
   "execution_count": 53,
   "metadata": {},
   "outputs": [],
   "source": [
    "df = pd.read_json(data)\n",
    "df = pd.concat([df, df[\"mostDamageTakenEntity\"].apply(pd.Series)], axis=1)\n",
    "df.drop(columns = ['mostDamageTakenEntity'], inplace = True)"
   ]
  },
  {
   "cell_type": "code",
   "execution_count": 54,
   "metadata": {},
   "outputs": [
    {
     "data": {
      "text/plain": [
       "array([False])"
      ]
     },
     "execution_count": 54,
     "metadata": {},
     "output_type": "execute_result"
    }
   ],
   "source": [
    "df['isPlayer'].unique()"
   ]
  },
  {
   "cell_type": "code",
   "execution_count": 55,
   "metadata": {},
   "outputs": [],
   "source": [
    "df.drop(columns = ['isPlayer'], inplace = True)"
   ]
  },
  {
   "cell_type": "markdown",
   "metadata": {},
   "source": [
    "Convert duration to seconds and damage to millions"
   ]
  },
  {
   "cell_type": "code",
   "execution_count": 56,
   "metadata": {},
   "outputs": [],
   "source": [
    "df['duration'] = df['duration'].apply(lambda x: x/1000)"
   ]
  },
  {
   "cell_type": "code",
   "execution_count": 57,
   "metadata": {},
   "outputs": [],
   "source": [
    "df['damageTaken'] = df['damageTaken'].apply(lambda x: x/1000000)"
   ]
  },
  {
   "cell_type": "code",
   "execution_count": 58,
   "metadata": {},
   "outputs": [],
   "source": [
    "df.rename(columns = {'duration' : 'duration (s)', 'name' : 'boss', 'damageTaken' : 'damageDealt (m)'}, inplace = True)"
   ]
  },
  {
   "cell_type": "code",
   "execution_count": 59,
   "metadata": {},
   "outputs": [
    {
     "data": {
      "text/html": [
       "<div>\n",
       "<style scoped>\n",
       "    .dataframe tbody tr th:only-of-type {\n",
       "        vertical-align: middle;\n",
       "    }\n",
       "\n",
       "    .dataframe tbody tr th {\n",
       "        vertical-align: top;\n",
       "    }\n",
       "\n",
       "    .dataframe thead th {\n",
       "        text-align: right;\n",
       "    }\n",
       "</style>\n",
       "<table border=\"1\" class=\"dataframe\">\n",
       "  <thead>\n",
       "    <tr style=\"text-align: right;\">\n",
       "      <th></th>\n",
       "      <th>encounterId</th>\n",
       "      <th>encounterFile</th>\n",
       "      <th>duration (s)</th>\n",
       "      <th>boss</th>\n",
       "      <th>damageDealt (m)</th>\n",
       "    </tr>\n",
       "  </thead>\n",
       "  <tbody>\n",
       "    <tr>\n",
       "      <th>0</th>\n",
       "      <td>a8c5a9f8-5fd9-411f-bbf0-679c52d0abe0</td>\n",
       "      <td>LostArk_2023-07-21-20-57-36_a8c5a9f8-5fd9-411f...</td>\n",
       "      <td>417.072</td>\n",
       "      <td>Israfel</td>\n",
       "      <td>13852.826255</td>\n",
       "    </tr>\n",
       "    <tr>\n",
       "      <th>1</th>\n",
       "      <td>5d98a2b0-1bcb-4ba4-9dbb-628e87750f4a</td>\n",
       "      <td>LostArk_2023-07-21-20-57-36_5d98a2b0-1bcb-4ba4...</td>\n",
       "      <td>146.592</td>\n",
       "      <td>Unicycling Clown</td>\n",
       "      <td>137.489550</td>\n",
       "    </tr>\n",
       "    <tr>\n",
       "      <th>2</th>\n",
       "      <td>91706e8e-1766-4344-9d13-824afb94dbc9</td>\n",
       "      <td>LostArk_2023-07-21-20-57-36_91706e8e-1766-4344...</td>\n",
       "      <td>192.185</td>\n",
       "      <td>Saydon</td>\n",
       "      <td>1936.952992</td>\n",
       "    </tr>\n",
       "    <tr>\n",
       "      <th>3</th>\n",
       "      <td>2e6b232e-9069-4891-9b7b-a644cae57588</td>\n",
       "      <td>LostArk_2023-07-21-20-57-36_2e6b232e-9069-4891...</td>\n",
       "      <td>48.902</td>\n",
       "      <td>Saydon</td>\n",
       "      <td>591.311558</td>\n",
       "    </tr>\n",
       "    <tr>\n",
       "      <th>4</th>\n",
       "      <td>76687325-05eb-4528-8cff-83aa6e84545c</td>\n",
       "      <td>LostArk_2023-07-21-20-57-36_76687325-05eb-4528...</td>\n",
       "      <td>660.675</td>\n",
       "      <td>Saydon</td>\n",
       "      <td>6127.621540</td>\n",
       "    </tr>\n",
       "  </tbody>\n",
       "</table>\n",
       "</div>"
      ],
      "text/plain": [
       "                            encounterId  \\\n",
       "0  a8c5a9f8-5fd9-411f-bbf0-679c52d0abe0   \n",
       "1  5d98a2b0-1bcb-4ba4-9dbb-628e87750f4a   \n",
       "2  91706e8e-1766-4344-9d13-824afb94dbc9   \n",
       "3  2e6b232e-9069-4891-9b7b-a644cae57588   \n",
       "4  76687325-05eb-4528-8cff-83aa6e84545c   \n",
       "\n",
       "                                       encounterFile  duration (s)  \\\n",
       "0  LostArk_2023-07-21-20-57-36_a8c5a9f8-5fd9-411f...       417.072   \n",
       "1  LostArk_2023-07-21-20-57-36_5d98a2b0-1bcb-4ba4...       146.592   \n",
       "2  LostArk_2023-07-21-20-57-36_91706e8e-1766-4344...       192.185   \n",
       "3  LostArk_2023-07-21-20-57-36_2e6b232e-9069-4891...        48.902   \n",
       "4  LostArk_2023-07-21-20-57-36_76687325-05eb-4528...       660.675   \n",
       "\n",
       "               boss  damageDealt (m)  \n",
       "0           Israfel     13852.826255  \n",
       "1  Unicycling Clown       137.489550  \n",
       "2            Saydon      1936.952992  \n",
       "3            Saydon       591.311558  \n",
       "4            Saydon      6127.621540  "
      ]
     },
     "execution_count": 59,
     "metadata": {},
     "output_type": "execute_result"
    }
   ],
   "source": [
    "df.head()"
   ]
  },
  {
   "cell_type": "code",
   "execution_count": 60,
   "metadata": {
    "scrolled": true
   },
   "outputs": [
    {
     "data": {
      "text/html": [
       "<div>\n",
       "<style scoped>\n",
       "    .dataframe tbody tr th:only-of-type {\n",
       "        vertical-align: middle;\n",
       "    }\n",
       "\n",
       "    .dataframe tbody tr th {\n",
       "        vertical-align: top;\n",
       "    }\n",
       "\n",
       "    .dataframe thead th {\n",
       "        text-align: right;\n",
       "    }\n",
       "</style>\n",
       "<table border=\"1\" class=\"dataframe\">\n",
       "  <thead>\n",
       "    <tr style=\"text-align: right;\">\n",
       "      <th></th>\n",
       "      <th>duration (s)</th>\n",
       "      <th>damageDealt (m)</th>\n",
       "    </tr>\n",
       "  </thead>\n",
       "  <tbody>\n",
       "    <tr>\n",
       "      <th>count</th>\n",
       "      <td>19.000000</td>\n",
       "      <td>19.000000</td>\n",
       "    </tr>\n",
       "    <tr>\n",
       "      <th>mean</th>\n",
       "      <td>209.047158</td>\n",
       "      <td>2240.255654</td>\n",
       "    </tr>\n",
       "    <tr>\n",
       "      <th>std</th>\n",
       "      <td>194.108534</td>\n",
       "      <td>3191.723507</td>\n",
       "    </tr>\n",
       "    <tr>\n",
       "      <th>min</th>\n",
       "      <td>21.390000</td>\n",
       "      <td>137.489550</td>\n",
       "    </tr>\n",
       "    <tr>\n",
       "      <th>25%</th>\n",
       "      <td>84.992500</td>\n",
       "      <td>802.677696</td>\n",
       "    </tr>\n",
       "    <tr>\n",
       "      <th>50%</th>\n",
       "      <td>128.097000</td>\n",
       "      <td>1007.899970</td>\n",
       "    </tr>\n",
       "    <tr>\n",
       "      <th>75%</th>\n",
       "      <td>298.173500</td>\n",
       "      <td>2345.265473</td>\n",
       "    </tr>\n",
       "    <tr>\n",
       "      <th>max</th>\n",
       "      <td>660.675000</td>\n",
       "      <td>13852.826255</td>\n",
       "    </tr>\n",
       "  </tbody>\n",
       "</table>\n",
       "</div>"
      ],
      "text/plain": [
       "       duration (s)  damageDealt (m)\n",
       "count     19.000000        19.000000\n",
       "mean     209.047158      2240.255654\n",
       "std      194.108534      3191.723507\n",
       "min       21.390000       137.489550\n",
       "25%       84.992500       802.677696\n",
       "50%      128.097000      1007.899970\n",
       "75%      298.173500      2345.265473\n",
       "max      660.675000     13852.826255"
      ]
     },
     "execution_count": 60,
     "metadata": {},
     "output_type": "execute_result"
    }
   ],
   "source": [
    "df.describe()"
   ]
  },
  {
   "cell_type": "code",
   "execution_count": 61,
   "metadata": {},
   "outputs": [
    {
     "data": {
      "text/plain": [
       "(19, 5)"
      ]
     },
     "execution_count": 61,
     "metadata": {},
     "output_type": "execute_result"
    }
   ],
   "source": [
    "df.shape"
   ]
  },
  {
   "cell_type": "code",
   "execution_count": 62,
   "metadata": {},
   "outputs": [
    {
     "data": {
      "text/plain": [
       "array(['Israfel', 'Unicycling Clown', 'Saydon', 'Kakul'], dtype=object)"
      ]
     },
     "execution_count": 62,
     "metadata": {},
     "output_type": "execute_result"
    }
   ],
   "source": [
    "df['boss'].unique()"
   ]
  },
  {
   "cell_type": "code",
   "execution_count": 63,
   "metadata": {},
   "outputs": [],
   "source": [
    "df = df[df['boss'].isin(['Saydon', 'Kakul'])]"
   ]
  },
  {
   "cell_type": "code",
   "execution_count": 64,
   "metadata": {},
   "outputs": [
    {
     "data": {
      "text/plain": [
       "array(['Saydon', 'Kakul'], dtype=object)"
      ]
     },
     "execution_count": 64,
     "metadata": {},
     "output_type": "execute_result"
    }
   ],
   "source": [
    "df['boss'].unique()"
   ]
  },
  {
   "cell_type": "code",
   "execution_count": 65,
   "metadata": {},
   "outputs": [
    {
     "data": {
      "text/plain": [
       "(17, 5)"
      ]
     },
     "execution_count": 65,
     "metadata": {},
     "output_type": "execute_result"
    }
   ],
   "source": [
    "df.shape"
   ]
  },
  {
   "cell_type": "code",
   "execution_count": 66,
   "metadata": {},
   "outputs": [],
   "source": [
    "df_g1 = df[df['boss'] == 'Saydon']"
   ]
  },
  {
   "cell_type": "code",
   "execution_count": 67,
   "metadata": {},
   "outputs": [],
   "source": [
    "df_g2 = df[df['boss'] == 'Kakul']"
   ]
  },
  {
   "cell_type": "code",
   "execution_count": 68,
   "metadata": {},
   "outputs": [],
   "source": [
    "df_g2.reset_index(inplace = True)\n",
    "df_g1.reset_index(inplace = True)"
   ]
  },
  {
   "cell_type": "markdown",
   "metadata": {},
   "source": [
    "## Gate 1"
   ]
  },
  {
   "cell_type": "code",
   "execution_count": 69,
   "metadata": {},
   "outputs": [
    {
     "data": {
      "text/html": [
       "<div>\n",
       "<style scoped>\n",
       "    .dataframe tbody tr th:only-of-type {\n",
       "        vertical-align: middle;\n",
       "    }\n",
       "\n",
       "    .dataframe tbody tr th {\n",
       "        vertical-align: top;\n",
       "    }\n",
       "\n",
       "    .dataframe thead th {\n",
       "        text-align: right;\n",
       "    }\n",
       "</style>\n",
       "<table border=\"1\" class=\"dataframe\">\n",
       "  <thead>\n",
       "    <tr style=\"text-align: right;\">\n",
       "      <th></th>\n",
       "      <th>index</th>\n",
       "      <th>encounterId</th>\n",
       "      <th>encounterFile</th>\n",
       "      <th>duration (s)</th>\n",
       "      <th>boss</th>\n",
       "      <th>damageDealt (m)</th>\n",
       "    </tr>\n",
       "  </thead>\n",
       "  <tbody>\n",
       "    <tr>\n",
       "      <th>0</th>\n",
       "      <td>2</td>\n",
       "      <td>91706e8e-1766-4344-9d13-824afb94dbc9</td>\n",
       "      <td>LostArk_2023-07-21-20-57-36_91706e8e-1766-4344...</td>\n",
       "      <td>192.185</td>\n",
       "      <td>Saydon</td>\n",
       "      <td>1936.952992</td>\n",
       "    </tr>\n",
       "    <tr>\n",
       "      <th>1</th>\n",
       "      <td>3</td>\n",
       "      <td>2e6b232e-9069-4891-9b7b-a644cae57588</td>\n",
       "      <td>LostArk_2023-07-21-20-57-36_2e6b232e-9069-4891...</td>\n",
       "      <td>48.902</td>\n",
       "      <td>Saydon</td>\n",
       "      <td>591.311558</td>\n",
       "    </tr>\n",
       "    <tr>\n",
       "      <th>2</th>\n",
       "      <td>4</td>\n",
       "      <td>76687325-05eb-4528-8cff-83aa6e84545c</td>\n",
       "      <td>LostArk_2023-07-21-20-57-36_76687325-05eb-4528...</td>\n",
       "      <td>660.675</td>\n",
       "      <td>Saydon</td>\n",
       "      <td>6127.621540</td>\n",
       "    </tr>\n",
       "  </tbody>\n",
       "</table>\n",
       "</div>"
      ],
      "text/plain": [
       "   index                           encounterId  \\\n",
       "0      2  91706e8e-1766-4344-9d13-824afb94dbc9   \n",
       "1      3  2e6b232e-9069-4891-9b7b-a644cae57588   \n",
       "2      4  76687325-05eb-4528-8cff-83aa6e84545c   \n",
       "\n",
       "                                       encounterFile  duration (s)    boss  \\\n",
       "0  LostArk_2023-07-21-20-57-36_91706e8e-1766-4344...       192.185  Saydon   \n",
       "1  LostArk_2023-07-21-20-57-36_2e6b232e-9069-4891...        48.902  Saydon   \n",
       "2  LostArk_2023-07-21-20-57-36_76687325-05eb-4528...       660.675  Saydon   \n",
       "\n",
       "   damageDealt (m)  \n",
       "0      1936.952992  \n",
       "1       591.311558  \n",
       "2      6127.621540  "
      ]
     },
     "execution_count": 69,
     "metadata": {},
     "output_type": "execute_result"
    }
   ],
   "source": [
    "df_g1.head()"
   ]
  },
  {
   "cell_type": "markdown",
   "metadata": {},
   "source": [
    "### Gate 1 damage dealt by pull"
   ]
  },
  {
   "cell_type": "code",
   "execution_count": 70,
   "metadata": {},
   "outputs": [
    {
     "data": {
      "text/plain": [
       "<AxesSubplot:ylabel='damageDealt (m)'>"
      ]
     },
     "execution_count": 70,
     "metadata": {},
     "output_type": "execute_result"
    },
    {
     "data": {
      "image/png": "[encoded data removed]",
      "text/plain": [
       "<Figure size 432x288 with 1 Axes>"
      ]
     },
     "metadata": {
      "needs_background": "light"
     },
     "output_type": "display_data"
    }
   ],
   "source": [
    "sns.barplot(data=df_g1, x=df_g1.index, y=\"damageDealt (m)\")"
   ]
  },
  {
   "cell_type": "markdown",
   "metadata": {},
   "source": [
    "## Gate 2"
   ]
  },
  {
   "cell_type": "code",
   "execution_count": 71,
   "metadata": {},
   "outputs": [
    {
     "data": {
      "text/html": [
       "<div>\n",
       "<style scoped>\n",
       "    .dataframe tbody tr th:only-of-type {\n",
       "        vertical-align: middle;\n",
       "    }\n",
       "\n",
       "    .dataframe tbody tr th {\n",
       "        vertical-align: top;\n",
       "    }\n",
       "\n",
       "    .dataframe thead th {\n",
       "        text-align: right;\n",
       "    }\n",
       "</style>\n",
       "<table border=\"1\" class=\"dataframe\">\n",
       "  <thead>\n",
       "    <tr style=\"text-align: right;\">\n",
       "      <th></th>\n",
       "      <th>index</th>\n",
       "      <th>encounterId</th>\n",
       "      <th>encounterFile</th>\n",
       "      <th>duration (s)</th>\n",
       "      <th>boss</th>\n",
       "      <th>damageDealt (m)</th>\n",
       "    </tr>\n",
       "  </thead>\n",
       "  <tbody>\n",
       "    <tr>\n",
       "      <th>0</th>\n",
       "      <td>5</td>\n",
       "      <td>41ca39fa-330e-486f-b1b8-d346e718f846</td>\n",
       "      <td>LostArk_2023-07-21-20-57-36_41ca39fa-330e-486f...</td>\n",
       "      <td>414.895</td>\n",
       "      <td>Kakul</td>\n",
       "      <td>2753.577953</td>\n",
       "    </tr>\n",
       "    <tr>\n",
       "      <th>1</th>\n",
       "      <td>6</td>\n",
       "      <td>00bc6f23-a632-49fe-a819-cd151ac028d4</td>\n",
       "      <td>LostArk_2023-07-21-20-57-36_00bc6f23-a632-49fe...</td>\n",
       "      <td>54.325</td>\n",
       "      <td>Kakul</td>\n",
       "      <td>572.392622</td>\n",
       "    </tr>\n",
       "    <tr>\n",
       "      <th>2</th>\n",
       "      <td>7</td>\n",
       "      <td>8f735cda-f347-49d7-963a-d49a1f18cdc8</td>\n",
       "      <td>LostArk_2023-07-21-20-57-36_8f735cda-f347-49d7...</td>\n",
       "      <td>90.697</td>\n",
       "      <td>Kakul</td>\n",
       "      <td>822.091862</td>\n",
       "    </tr>\n",
       "    <tr>\n",
       "      <th>3</th>\n",
       "      <td>8</td>\n",
       "      <td>21b36276-2b27-47a3-8090-0326568d211e</td>\n",
       "      <td>LostArk_2023-07-21-20-57-36_21b36276-2b27-47a3...</td>\n",
       "      <td>21.390</td>\n",
       "      <td>Kakul</td>\n",
       "      <td>218.462130</td>\n",
       "    </tr>\n",
       "    <tr>\n",
       "      <th>4</th>\n",
       "      <td>9</td>\n",
       "      <td>cc2740aa-bb3b-4079-90cc-7721a843eb19</td>\n",
       "      <td>LostArk_2023-07-21-20-57-36_cc2740aa-bb3b-4079...</td>\n",
       "      <td>79.288</td>\n",
       "      <td>Kakul</td>\n",
       "      <td>820.105930</td>\n",
       "    </tr>\n",
       "  </tbody>\n",
       "</table>\n",
       "</div>"
      ],
      "text/plain": [
       "   index                           encounterId  \\\n",
       "0      5  41ca39fa-330e-486f-b1b8-d346e718f846   \n",
       "1      6  00bc6f23-a632-49fe-a819-cd151ac028d4   \n",
       "2      7  8f735cda-f347-49d7-963a-d49a1f18cdc8   \n",
       "3      8  21b36276-2b27-47a3-8090-0326568d211e   \n",
       "4      9  cc2740aa-bb3b-4079-90cc-7721a843eb19   \n",
       "\n",
       "                                       encounterFile  duration (s)   boss  \\\n",
       "0  LostArk_2023-07-21-20-57-36_41ca39fa-330e-486f...       414.895  Kakul   \n",
       "1  LostArk_2023-07-21-20-57-36_00bc6f23-a632-49fe...        54.325  Kakul   \n",
       "2  LostArk_2023-07-21-20-57-36_8f735cda-f347-49d7...        90.697  Kakul   \n",
       "3  LostArk_2023-07-21-20-57-36_21b36276-2b27-47a3...        21.390  Kakul   \n",
       "4  LostArk_2023-07-21-20-57-36_cc2740aa-bb3b-4079...        79.288  Kakul   \n",
       "\n",
       "   damageDealt (m)  \n",
       "0      2753.577953  \n",
       "1       572.392622  \n",
       "2       822.091862  \n",
       "3       218.462130  \n",
       "4       820.105930  "
      ]
     },
     "execution_count": 71,
     "metadata": {},
     "output_type": "execute_result"
    }
   ],
   "source": [
    "df_g2.head()"
   ]
  },
  {
   "cell_type": "code",
   "execution_count": 72,
   "metadata": {},
   "outputs": [],
   "source": [
    "df_g2.reset_index(inplace = True)"
   ]
  },
  {
   "cell_type": "code",
   "execution_count": 73,
   "metadata": {},
   "outputs": [
    {
     "data": {
      "text/plain": [
       "(14, 7)"
      ]
     },
     "execution_count": 73,
     "metadata": {},
     "output_type": "execute_result"
    }
   ],
   "source": [
    "df_g2.shape"
   ]
  },
  {
   "cell_type": "markdown",
   "metadata": {},
   "source": [
    "### Gate 2 damage dealy by pull"
   ]
  },
  {
   "cell_type": "code",
   "execution_count": 74,
   "metadata": {},
   "outputs": [
    {
     "data": {
      "image/png": "[encoded data removed]",
      "text/plain": [
       "<Figure size 432x288 with 1 Axes>"
      ]
     },
     "metadata": {
      "needs_background": "light"
     },
     "output_type": "display_data"
    }
   ],
   "source": [
    "g = sns.barplot(data=df_g2, x=df_g2.index, y=\"damageDealt (m)\")\n",
    "\n",
    "for ind, label in enumerate(g.get_xticklabels()):\n",
    "    if ind % 2 == 0:  # every 10th label is kept\n",
    "        label.set_visible(True)\n",
    "    else:\n",
    "        label.set_visible(False)"
   ]
  },
  {
   "cell_type": "code",
   "execution_count": 75,
   "metadata": {},
   "outputs": [
    {
     "data": {
      "text/html": [
       "<div>\n",
       "<style scoped>\n",
       "    .dataframe tbody tr th:only-of-type {\n",
       "        vertical-align: middle;\n",
       "    }\n",
       "\n",
       "    .dataframe tbody tr th {\n",
       "        vertical-align: top;\n",
       "    }\n",
       "\n",
       "    .dataframe thead th {\n",
       "        text-align: right;\n",
       "    }\n",
       "</style>\n",
       "<table border=\"1\" class=\"dataframe\">\n",
       "  <thead>\n",
       "    <tr style=\"text-align: right;\">\n",
       "      <th></th>\n",
       "      <th>damageDealt (m)</th>\n",
       "      <th>duration (s)</th>\n",
       "    </tr>\n",
       "  </thead>\n",
       "  <tbody>\n",
       "    <tr>\n",
       "      <th>count</th>\n",
       "      <td>14.000000</td>\n",
       "      <td>14.000000</td>\n",
       "    </tr>\n",
       "    <tr>\n",
       "      <th>mean</th>\n",
       "      <td>1422.761110</td>\n",
       "      <td>179.033571</td>\n",
       "    </tr>\n",
       "    <tr>\n",
       "      <th>std</th>\n",
       "      <td>1137.323934</td>\n",
       "      <td>172.876413</td>\n",
       "    </tr>\n",
       "    <tr>\n",
       "      <th>min</th>\n",
       "      <td>218.462130</td>\n",
       "      <td>21.390000</td>\n",
       "    </tr>\n",
       "    <tr>\n",
       "      <th>25%</th>\n",
       "      <td>820.602413</td>\n",
       "      <td>82.140250</td>\n",
       "    </tr>\n",
       "    <tr>\n",
       "      <th>50%</th>\n",
       "      <td>1005.488685</td>\n",
       "      <td>104.829000</td>\n",
       "    </tr>\n",
       "    <tr>\n",
       "      <th>75%</th>\n",
       "      <td>1624.321988</td>\n",
       "      <td>175.173000</td>\n",
       "    </tr>\n",
       "    <tr>\n",
       "      <th>max</th>\n",
       "      <td>4386.942032</td>\n",
       "      <td>614.661000</td>\n",
       "    </tr>\n",
       "  </tbody>\n",
       "</table>\n",
       "</div>"
      ],
      "text/plain": [
       "       damageDealt (m)  duration (s)\n",
       "count        14.000000     14.000000\n",
       "mean       1422.761110    179.033571\n",
       "std        1137.323934    172.876413\n",
       "min         218.462130     21.390000\n",
       "25%         820.602413     82.140250\n",
       "50%        1005.488685    104.829000\n",
       "75%        1624.321988    175.173000\n",
       "max        4386.942032    614.661000"
      ]
     },
     "execution_count": 75,
     "metadata": {},
     "output_type": "execute_result"
    }
   ],
   "source": [
    "df_g2[[\"damageDealt (m)\", \"duration (s)\"]].describe()"
   ]
  },
  {
   "cell_type": "code",
   "execution_count": 76,
   "metadata": {},
   "outputs": [],
   "source": [
    "g2_summary.append(df_g2[[\"damageDealt (m)\"]].describe())"
   ]
  },
  {
   "cell_type": "markdown",
   "metadata": {},
   "source": [
    "# G2 session summaries"
   ]
  },
  {
   "cell_type": "markdown",
   "metadata": {},
   "source": [
    "### 7/20 Paladin, Arcana, SS, GS\n",
    "Pulls: **62**\n",
    "<br> - Mean Duration: **147 seconds**\n",
    "<br> - Mean Damage: **1.15b**\n",
    "<br> - Max Damage: **4.26b**"
   ]
  },
  {
   "cell_type": "markdown",
   "metadata": {},
   "source": [
    "### 7/21 Paladin, Arcana, SS, GS\n",
    "Pulls: **35**\n",
    "<br> - Mean Duration: **223 seconds**\n",
    "<br> - Mean Damage: **1.72b**\n",
    "<br> - Max Damage: **3.67b**"
   ]
  },
  {
   "cell_type": "markdown",
   "metadata": {},
   "source": [
    "### 7/21 Paladin, Arcana, SS, Berserker\n",
    "Pulls: **14**\n",
    "<br> - Mean Duration: **179 seconds**\n",
    "<br> - Mean Damage: **1.42b**\n",
    "<br> - Max Damage: **4.39b**"
   ]
  },
  {
   "cell_type": "code",
   "execution_count": 77,
   "metadata": {
    "scrolled": true
   },
   "outputs": [
    {
     "data": {
      "text/plain": [
       "list"
      ]
     },
     "execution_count": 77,
     "metadata": {},
     "output_type": "execute_result"
    }
   ],
   "source": [
    "type(g2_summary)"
   ]
  },
  {
   "cell_type": "code",
   "execution_count": 78,
   "metadata": {},
   "outputs": [
    {
     "data": {
      "text/plain": [
       "pandas.core.frame.DataFrame"
      ]
     },
     "execution_count": 78,
     "metadata": {},
     "output_type": "execute_result"
    }
   ],
   "source": [
    "type(g2_summary[0])"
   ]
  },
  {
   "cell_type": "code",
   "execution_count": 79,
   "metadata": {},
   "outputs": [
    {
     "data": {
      "text/plain": [
       "count      62.000000\n",
       "mean     1154.269749\n",
       "std       861.130199\n",
       "min       227.560073\n",
       "25%       593.545192\n",
       "50%       798.514150\n",
       "75%      1596.303532\n",
       "max      4262.597673\n",
       "Name: damageDealt (m), dtype: float64"
      ]
     },
     "execution_count": 79,
     "metadata": {},
     "output_type": "execute_result"
    }
   ],
   "source": [
    "g2_summary[0]['damageDealt (m)']"
   ]
  },
  {
   "cell_type": "code",
   "execution_count": 80,
   "metadata": {},
   "outputs": [],
   "source": [
    "df_sum = pd.DataFrame()"
   ]
  },
  {
   "cell_type": "code",
   "execution_count": 81,
   "metadata": {},
   "outputs": [],
   "source": [
    "for i in range(0, len(g2_summary)):\n",
    "    df_sum[i] = g2_summary[i]['damageDealt (m)']"
   ]
  },
  {
   "cell_type": "code",
   "execution_count": 82,
   "metadata": {},
   "outputs": [
    {
     "data": {
      "text/html": [
       "<div>\n",
       "<style scoped>\n",
       "    .dataframe tbody tr th:only-of-type {\n",
       "        vertical-align: middle;\n",
       "    }\n",
       "\n",
       "    .dataframe tbody tr th {\n",
       "        vertical-align: top;\n",
       "    }\n",
       "\n",
       "    .dataframe thead th {\n",
       "        text-align: right;\n",
       "    }\n",
       "</style>\n",
       "<table border=\"1\" class=\"dataframe\">\n",
       "  <thead>\n",
       "    <tr style=\"text-align: right;\">\n",
       "      <th></th>\n",
       "      <th>0</th>\n",
       "      <th>1</th>\n",
       "      <th>2</th>\n",
       "    </tr>\n",
       "  </thead>\n",
       "  <tbody>\n",
       "    <tr>\n",
       "      <th>count</th>\n",
       "      <td>62.000000</td>\n",
       "      <td>35.000000</td>\n",
       "      <td>14.000000</td>\n",
       "    </tr>\n",
       "    <tr>\n",
       "      <th>mean</th>\n",
       "      <td>1154.269749</td>\n",
       "      <td>1725.288828</td>\n",
       "      <td>1422.761110</td>\n",
       "    </tr>\n",
       "    <tr>\n",
       "      <th>std</th>\n",
       "      <td>861.130199</td>\n",
       "      <td>950.889451</td>\n",
       "      <td>1137.323934</td>\n",
       "    </tr>\n",
       "    <tr>\n",
       "      <th>min</th>\n",
       "      <td>227.560073</td>\n",
       "      <td>294.357597</td>\n",
       "      <td>218.462130</td>\n",
       "    </tr>\n",
       "    <tr>\n",
       "      <th>25%</th>\n",
       "      <td>593.545192</td>\n",
       "      <td>918.562980</td>\n",
       "      <td>820.602413</td>\n",
       "    </tr>\n",
       "    <tr>\n",
       "      <th>50%</th>\n",
       "      <td>798.514150</td>\n",
       "      <td>1721.168025</td>\n",
       "      <td>1005.488685</td>\n",
       "    </tr>\n",
       "    <tr>\n",
       "      <th>75%</th>\n",
       "      <td>1596.303532</td>\n",
       "      <td>2684.688579</td>\n",
       "      <td>1624.321988</td>\n",
       "    </tr>\n",
       "    <tr>\n",
       "      <th>max</th>\n",
       "      <td>4262.597673</td>\n",
       "      <td>3665.666590</td>\n",
       "      <td>4386.942032</td>\n",
       "    </tr>\n",
       "  </tbody>\n",
       "</table>\n",
       "</div>"
      ],
      "text/plain": [
       "                 0            1            2\n",
       "count    62.000000    35.000000    14.000000\n",
       "mean   1154.269749  1725.288828  1422.761110\n",
       "std     861.130199   950.889451  1137.323934\n",
       "min     227.560073   294.357597   218.462130\n",
       "25%     593.545192   918.562980   820.602413\n",
       "50%     798.514150  1721.168025  1005.488685\n",
       "75%    1596.303532  2684.688579  1624.321988\n",
       "max    4262.597673  3665.666590  4386.942032"
      ]
     },
     "execution_count": 82,
     "metadata": {},
     "output_type": "execute_result"
    }
   ],
   "source": [
    "df_sum"
   ]
  },
  {
   "cell_type": "code",
   "execution_count": 83,
   "metadata": {},
   "outputs": [],
   "source": [
    "df_sum = df_sum.transpose()"
   ]
  },
  {
   "cell_type": "markdown",
   "metadata": {},
   "source": [
    "## Fatigue Analysis"
   ]
  },
  {
   "cell_type": "code",
   "execution_count": 84,
   "metadata": {},
   "outputs": [
    {
     "data": {
      "text/plain": [
       "[Text(0.5, 0, '# of pulls'),\n",
       " Text(0, 0.5, 'average damage dealt'),\n",
       " Text(0.5, 1.0, 'mean damage by number of pulls per session')]"
      ]
     },
     "execution_count": 84,
     "metadata": {},
     "output_type": "execute_result"
    },
    {
     "data": {
      "image/png": "[encoded data removed]",
      "text/plain": [
       "<Figure size 432x288 with 1 Axes>"
      ]
     },
     "metadata": {
      "needs_background": "light"
     },
     "output_type": "display_data"
    }
   ],
   "source": [
    "fig, ax = plt.subplots()\n",
    "\n",
    "g = sns.lineplot(data=df_sum, x=\"count\", y=\"mean\", ax = ax)\n",
    "\n",
    "ax.set_xlim(5, 70)\n",
    "ax.set_ylim(1000, 2000)\n",
    "\n",
    "g.set(xlabel = '# of pulls', ylabel = 'average damage dealt', title = 'mean damage by number of pulls per session')"
   ]
  },
  {
   "cell_type": "code",
   "execution_count": 85,
   "metadata": {},
   "outputs": [
    {
     "data": {
      "text/plain": [
       "[Text(0.5, 0, '# of pulls'),\n",
       " Text(0, 0.5, 'max damage dealt'),\n",
       " Text(0.5, 1.0, 'max damage by number of pulls per session')]"
      ]
     },
     "execution_count": 85,
     "metadata": {},
     "output_type": "execute_result"
    },
    {
     "data": {
      "image/png": "[encoded data removed]",
      "text/plain": [
       "<Figure size 432x288 with 1 Axes>"
      ]
     },
     "metadata": {
      "needs_background": "light"
     },
     "output_type": "display_data"
    }
   ],
   "source": [
    "fig, ax = plt.subplots()\n",
    "\n",
    "g = sns.lineplot(data=df_sum, x=\"count\", y=\"max\", ax = ax)\n",
    "\n",
    "ax.set_xlim(5, 70)\n",
    "ax.set_ylim(3000, 5000)\n",
    "\n",
    "g.set(xlabel = '# of pulls', ylabel = 'max damage dealt', title = 'max damage by number of pulls per session')"
   ]
  }
 ],
 "metadata": {
  "kernelspec": {
   "display_name": "Python 3",
   "language": "python",
   "name": "python3"
  },
  "language_info": {
   "codemirror_mode": {
    "name": "ipython",
    "version": 3
   },
   "file_extension": ".py",
   "mimetype": "text/x-python",
   "name": "python",
   "nbconvert_exporter": "python",
   "pygments_lexer": "ipython3",
   "version": "3.8.5"
  }
 },
 "nbformat": 4,
 "nbformat_minor": 4
}
